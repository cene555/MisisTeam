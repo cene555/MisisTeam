{
 "cells": [
  {
   "cell_type": "code",
   "execution_count": null,
   "id": "8f87e9c9-4f1c-4fbf-9ea1-48648c1f4194",
   "metadata": {},
   "outputs": [],
   "source": []
  },
  {
   "cell_type": "code",
   "execution_count": 23,
   "id": "fac25e1b-737d-41f8-9f36-43ba0c4da6ec",
   "metadata": {},
   "outputs": [
    {
     "name": "stdout",
     "output_type": "stream",
     "text": [
      "/home/jovyan\n"
     ]
    }
   ],
   "source": [
    "cd /home/jovyan"
   ]
  },
  {
   "cell_type": "code",
   "execution_count": 24,
   "id": "175e6cbe-c7f9-4dff-8fbe-d375c09b32a5",
   "metadata": {},
   "outputs": [],
   "source": [
    "N_CORES = 128 # Где N_CORES - количество ядер CPU\n",
    "\n",
    "import os\n",
    "\n",
    "os.environ[\"MKL_NUM_THREADS\"] = str(N_CORES)\n",
    "\n",
    "os.environ[\"NUMEXPR_NUM_THREADS\"] = str(N_CORES)\n",
    "\n",
    "os.environ[\"OMP_NUM_THREADS\"] = str(N_CORES)\n",
    "from diffusers import KandinskyV22PriorPipeline, KandinskyV22Pipeline, KandinskyV22PriorEmb2EmbPipeline, KandinskyV22ControlnetImg2ImgPipeline, KandinskyV22Img2ImgPipeline\n",
    "import torch\n",
    "from PIL import Image\n",
    "from PIL import ImageDraw, ImageFont\n",
    "from copy import deepcopy\n",
    "from deep_translator import GoogleTranslator\n",
    "\n",
    "from rembg import remove\n",
    "import sys\n",
    "sys.path.append('/home/jovyan/cene655/ControlNet')\n",
    "from annotator.util import resize_image, HWC3\n",
    "from annotator.midas import MidasDetector\n",
    "from diffusers import KandinskyV22PriorEmb2EmbPipeline\n",
    "from diffusers import KandinskyV22ControlnetImg2ImgPipeline\n",
    "import torch\n",
    "import PIL\n",
    "import torch\n",
    "from diffusers.utils import load_image\n",
    "from torchvision import transforms\n",
    "from transformers import CLIPVisionModelWithProjection\n",
    "from diffusers.models import UNet2DConditionModel\n",
    "import numpy as np"
   ]
  },
  {
   "cell_type": "code",
   "execution_count": 25,
   "id": "a85c04f0-bf53-4e5c-89bb-404ebece827d",
   "metadata": {},
   "outputs": [],
   "source": [
    "def make_hint(img, detector):\n",
    "    input_image = np.array(img)\n",
    "    img = HWC3(input_image)#resize_image(, input_image.shape[1])\n",
    "    print(img.shape)\n",
    "    H, W, C = img.shape\n",
    "    detected_map, _ = detector(img)\n",
    "    detected_map = HWC3(detected_map)\n",
    "    detected_map = torch.from_numpy(detected_map.copy()).float() / 255.0\n",
    "    hint = detected_map.permute(2, 0, 1)\n",
    "    return hint"
   ]
  },
  {
   "cell_type": "code",
   "execution_count": 26,
   "id": "503aa032-4460-47ba-b20a-b1684f0dbef1",
   "metadata": {},
   "outputs": [],
   "source": [
    "detector = MidasDetector()"
   ]
  },
  {
   "cell_type": "code",
   "execution_count": 27,
   "id": "7e301cab-f5ee-43d7-bb84-a4e922d67635",
   "metadata": {},
   "outputs": [
    {
     "data": {
      "application/vnd.jupyter.widget-view+json": {
       "model_id": "92e73d1f4dcf4480b36c0005656fe73e",
       "version_major": 2,
       "version_minor": 0
      },
      "text/plain": [
       "Loading pipeline components...:   0%|          | 0/3 [00:00<?, ?it/s]"
      ]
     },
     "metadata": {},
     "output_type": "display_data"
    }
   ],
   "source": [
    "decoder = KandinskyV22Img2ImgPipeline.from_pretrained('kandinsky-community/kandinsky-2-2-decoder', torch_dtype=torch.float16).to('cuda')"
   ]
  },
  {
   "cell_type": "code",
   "execution_count": 28,
   "id": "1ad987e6-a0f8-4a0e-99b2-daa3efa55ff7",
   "metadata": {},
   "outputs": [
    {
     "name": "stderr",
     "output_type": "stream",
     "text": [
      "unet/diffusion_pytorch_model.safetensors not found\n"
     ]
    },
    {
     "data": {
      "application/vnd.jupyter.widget-view+json": {
       "model_id": "451365cd477d4cfaab8c118ae156737a",
       "version_major": 2,
       "version_minor": 0
      },
      "text/plain": [
       "Loading pipeline components...:   0%|          | 0/3 [00:00<?, ?it/s]"
      ]
     },
     "metadata": {},
     "output_type": "display_data"
    }
   ],
   "source": [
    "controlnet = KandinskyV22ControlnetImg2ImgPipeline.from_pretrained('kandinsky-community/kandinsky-2-2-controlnet-depth', torch_dtype=torch.float16).to('cuda')"
   ]
  },
  {
   "cell_type": "code",
   "execution_count": 29,
   "id": "55b525c7-66ba-4bab-b106-a8c13da266c6",
   "metadata": {},
   "outputs": [
    {
     "data": {
      "application/vnd.jupyter.widget-view+json": {
       "model_id": "969e662cef944f5b8ca9d7f72d6af974",
       "version_major": 2,
       "version_minor": 0
      },
      "text/plain": [
       "Loading pipeline components...:   0%|          | 0/6 [00:00<?, ?it/s]"
      ]
     },
     "metadata": {},
     "output_type": "display_data"
    }
   ],
   "source": [
    "prior = KandinskyV22PriorPipeline.from_pretrained('kandinsky-community/kandinsky-2-2-prior', torch_dtype=torch.float16).to('cuda')"
   ]
  },
  {
   "cell_type": "code",
   "execution_count": 30,
   "id": "24163570-65b9-43f1-a169-ed7318ffc55a",
   "metadata": {},
   "outputs": [],
   "source": [
    "prompt = 'pizza in the space, photo'"
   ]
  },
  {
   "cell_type": "code",
   "execution_count": 31,
   "id": "b178824a-f01f-4ff3-8d3e-9c839f8d0af0",
   "metadata": {},
   "outputs": [
    {
     "data": {
      "text/plain": [
       "832"
      ]
     },
     "execution_count": 31,
     "metadata": {},
     "output_type": "execute_result"
    }
   ],
   "source": [
    "768 + 64#704 1280"
   ]
  },
  {
   "cell_type": "code",
   "execution_count": 32,
   "id": "5635f7a5-d1fc-4e91-8c52-3d6a18c65f4b",
   "metadata": {},
   "outputs": [],
   "source": [
    "def prepare_caption(caption): return GoogleTranslator(source='ru', target='en').translate(caption)"
   ]
  },
  {
   "cell_type": "code",
   "execution_count": 33,
   "id": "5c7884e8-50fe-4340-935c-5e52323c161e",
   "metadata": {},
   "outputs": [],
   "source": [
    "def delete_bg(img, img2):\n",
    "    min_size = min(img2.size[0], img2.size[1])\n",
    "\n",
    "    img = img.resize((min_size, min_size))\n",
    "    img = np.array(img)\n",
    "    img2 = np.array(img2)\n",
    "    output = remove(img)\n",
    "    m = 0\n",
    "    for i in range(output.shape[0]):\n",
    "        for j in range(output.shape[1]):\n",
    "            m = max(output[i][j][3], m)\n",
    "            if output[i][j][3] >= 80:\n",
    "                img2[i][j] = output[i][j][:3]\n",
    "    return Image.fromarray(img2)"
   ]
  },
  {
   "cell_type": "code",
   "execution_count": 34,
   "id": "9026534a-09d2-4b96-bdc4-9dac5100c784",
   "metadata": {},
   "outputs": [],
   "source": [
    "def generate_avatar(decoder, controlnet, prior, prompt, text=None, style_image=None, face_image=None, animation=None):\n",
    "        \n",
    "    zero_img = PIL.Image.new(mode=\"RGB\", size=(200, 200))\n",
    "    img_emb = prior(prompt=prompt, num_inference_steps=50, num_images_per_prompt=1, guidance_scale=1.0).image_embeds\n",
    "    if style_image is not None:\n",
    "        img_emb2 = prior.interpolate(images_and_prompts=[style_image], weights=[1.0], num_inference_steps=25, num_images_per_prompt=1, guidance_scale=4.0).image_embeds\n",
    "        img_emb = img_emb * 0.55 + img_emb2 * 0.45\n",
    "    negative_emb = prior(prompt='blow quility', num_inference_steps=25, num_images_per_prompt=1, guidance_scale=4.0)\n",
    "    images = decoder(image=zero_img, strength=1.0, image_embeds=img_emb, negative_image_embeds=negative_emb.negative_image_embeds, num_inference_steps=100, height=832, width=832, guidance_scale=4.0).images\n",
    "    if face_image is not None:\n",
    "        images[0] = delete_bg(face_image, images[0])\n",
    "    if text is not None:\n",
    "        img = deepcopy(images[0])\n",
    "        W, H = img.size\n",
    "        myFont = ImageFont.truetype('cene655/drawbench/DejaVuSansCondensed.ttf', 40)\n",
    "\n",
    "        draw = ImageDraw.Draw(img)\n",
    "        _, _, w, h = draw.textbbox((0, 0), text, font=myFont)\n",
    "        draw.text(((W-w)/2, 25), text, font=myFont, fill=(255, 255, 255), stroke_width=2, stroke_fill=(0, 0, 0))\n",
    "        hint = make_hint(img, detector).unsqueeze(0).half().to('cuda').repeat(1, 1, 1, 1)\n",
    "        images2 = controlnet(image=img, strength=0.05, image_embeds=img_emb, negative_image_embeds=negative_emb.image_embeds, hint=hint, num_inference_steps=100, height=img.size[1], width=img.size[0])\n",
    "        return images2[0][0]\n",
    "    else:\n",
    "        return images[0]\n",
    "\n",
    "    "
   ]
  },
  {
   "cell_type": "code",
   "execution_count": 37,
   "id": "b2265ab2-dce4-430b-b4ea-ed3448283fbf",
   "metadata": {},
   "outputs": [],
   "source": [
    "def generate_preview(decoder, contronet, prior, prompt, text=None, style_image=None, face_image=None, animation=None):\n",
    "    prompt = '4k photo of ' + prompt\n",
    "    zero_img = PIL.Image.new(mode=\"RGB\", size=(200, 200))\n",
    "    img_emb = prior(prompt=prompt, num_inference_steps=50, num_images_per_prompt=1, guidance_scale=1.5).image_embeds\n",
    "    if style_image is not None:\n",
    "        img_emb2 = prior.interpolate(images_and_prompts=[style_image], weights=[1.0], num_inference_steps=25, num_images_per_prompt=1, guidance_scale=4.0).image_embeds\n",
    "        img_emb = img_emb * 0.75 + img_emb2 * 0.25\n",
    "    negative_emb = prior(prompt='blow quility', num_inference_steps=25, num_images_per_prompt=1, guidance_scale=4.0)\n",
    "    images = decoder(image=zero_img, strength=1.0, image_embeds=img_emb, negative_image_embeds=negative_emb.negative_image_embeds, num_inference_steps=250, height=704, width=1280, guidance_scale=4.0).images\n",
    "    if face_image is not None:\n",
    "        images[0] = delete_bg(face_image, images[0])\n",
    "    if text is not None:\n",
    "        img = deepcopy(images[0])\n",
    "        W, H = img.size\n",
    "        print(len(text))\n",
    "        if len(text) < 52:\n",
    "            myFont = ImageFont.truetype('cene655/drawbench/DejaVuSansCondensed.ttf', 50)\n",
    "        else:\n",
    "            myFont = ImageFont.truetype('cene655/drawbench/DejaVuSansCondensed.ttf', 35)\n",
    "        draw = ImageDraw.Draw(img)\n",
    "        _, _, w, h = draw.textbbox((0, 0), text, font=myFont)\n",
    "        draw.text(((W-w)/2, 25), text, font=myFont, fill=(255, 255, 255), stroke_width=2, stroke_fill=(0, 0, 0))\n",
    "        hint = make_hint(img, detector).unsqueeze(0).half().to('cuda').repeat(1, 1, 1, 1)\n",
    "        #images2 = controlnet(image=img, strength=0.01, image_embeds=img_emb, negative_image_embeds=negative_emb.image_embeds, hint=hint, num_inference_steps=150, height=img.size[1], width=img.size[0])\n",
    "        return img#images2[0][0]\n",
    "    else:\n",
    "        return images[0]\n",
    "\n",
    "    "
   ]
  },
  {
   "cell_type": "code",
   "execution_count": 72,
   "id": "3dd43df9-d198-4474-8ea4-a5004aa9b08a",
   "metadata": {},
   "outputs": [
    {
     "data": {
      "application/vnd.jupyter.widget-view+json": {
       "model_id": "a43e3f53f9f34c15b519d8e2fbac69a5",
       "version_major": 2,
       "version_minor": 0
      },
      "text/plain": [
       "  0%|          | 0/50 [00:00<?, ?it/s]"
      ]
     },
     "metadata": {},
     "output_type": "display_data"
    },
    {
     "data": {
      "application/vnd.jupyter.widget-view+json": {
       "model_id": "a92d90295f9b4c7486f2660afc44b642",
       "version_major": 2,
       "version_minor": 0
      },
      "text/plain": [
       "  0%|          | 0/25 [00:00<?, ?it/s]"
      ]
     },
     "metadata": {},
     "output_type": "display_data"
    },
    {
     "data": {
      "application/vnd.jupyter.widget-view+json": {
       "model_id": "661edaa65a374c32b8e63cf85f76cce6",
       "version_major": 2,
       "version_minor": 0
      },
      "text/plain": [
       "  0%|          | 0/25 [00:00<?, ?it/s]"
      ]
     },
     "metadata": {},
     "output_type": "display_data"
    },
    {
     "data": {
      "application/vnd.jupyter.widget-view+json": {
       "model_id": "703fb38b2aea400bba0cec8f45ae2737",
       "version_major": 2,
       "version_minor": 0
      },
      "text/plain": [
       "  0%|          | 0/250 [00:00<?, ?it/s]"
      ]
     },
     "metadata": {},
     "output_type": "display_data"
    },
    {
     "name": "stdout",
     "output_type": "stream",
     "text": [
      "98\n",
      "(704, 1280, 3)\n"
     ]
    },
    {
     "data": {
      "application/vnd.jupyter.widget-view+json": {
       "model_id": "50d723bea27c4524a3c58a35f6642091",
       "version_major": 2,
       "version_minor": 0
      },
      "text/plain": [
       "  0%|          | 0/50 [00:00<?, ?it/s]"
      ]
     },
     "metadata": {},
     "output_type": "display_data"
    },
    {
     "data": {
      "application/vnd.jupyter.widget-view+json": {
       "model_id": "9577b78851db4ec9b9a76e0820041d8c",
       "version_major": 2,
       "version_minor": 0
      },
      "text/plain": [
       "  0%|          | 0/25 [00:00<?, ?it/s]"
      ]
     },
     "metadata": {},
     "output_type": "display_data"
    },
    {
     "data": {
      "application/vnd.jupyter.widget-view+json": {
       "model_id": "e32a0a1281694b0bafc1428fd8093409",
       "version_major": 2,
       "version_minor": 0
      },
      "text/plain": [
       "  0%|          | 0/25 [00:00<?, ?it/s]"
      ]
     },
     "metadata": {},
     "output_type": "display_data"
    },
    {
     "data": {
      "application/vnd.jupyter.widget-view+json": {
       "model_id": "88390c8215f543f39a9d5357ede5cbbf",
       "version_major": 2,
       "version_minor": 0
      },
      "text/plain": [
       "  0%|          | 0/250 [00:00<?, ?it/s]"
      ]
     },
     "metadata": {},
     "output_type": "display_data"
    },
    {
     "name": "stdout",
     "output_type": "stream",
     "text": [
      "41\n",
      "(704, 1280, 3)\n"
     ]
    },
    {
     "name": "stderr",
     "output_type": "stream",
     "text": [
      "The following part of your input was truncated because CLIP can only handle sequences up to 77 tokens: ['questions, write to']\n"
     ]
    },
    {
     "data": {
      "application/vnd.jupyter.widget-view+json": {
       "model_id": "56ce6389c38542f7b1d7fdd180c66610",
       "version_major": 2,
       "version_minor": 0
      },
      "text/plain": [
       "  0%|          | 0/50 [00:00<?, ?it/s]"
      ]
     },
     "metadata": {},
     "output_type": "display_data"
    },
    {
     "data": {
      "application/vnd.jupyter.widget-view+json": {
       "model_id": "53c659aee11345d0a001d5939f2c2781",
       "version_major": 2,
       "version_minor": 0
      },
      "text/plain": [
       "  0%|          | 0/25 [00:00<?, ?it/s]"
      ]
     },
     "metadata": {},
     "output_type": "display_data"
    },
    {
     "data": {
      "application/vnd.jupyter.widget-view+json": {
       "model_id": "1957624913f7414ab9e30d6ff9817ad0",
       "version_major": 2,
       "version_minor": 0
      },
      "text/plain": [
       "  0%|          | 0/25 [00:00<?, ?it/s]"
      ]
     },
     "metadata": {},
     "output_type": "display_data"
    },
    {
     "data": {
      "application/vnd.jupyter.widget-view+json": {
       "model_id": "41c50517613c443f881f9dce14cd98dc",
       "version_major": 2,
       "version_minor": 0
      },
      "text/plain": [
       "  0%|          | 0/250 [00:00<?, ?it/s]"
      ]
     },
     "metadata": {},
     "output_type": "display_data"
    },
    {
     "name": "stdout",
     "output_type": "stream",
     "text": [
      "61\n",
      "(704, 1280, 3)\n"
     ]
    },
    {
     "data": {
      "application/vnd.jupyter.widget-view+json": {
       "model_id": "f15b1e67ec5e4e259879bacc8dc79ad5",
       "version_major": 2,
       "version_minor": 0
      },
      "text/plain": [
       "  0%|          | 0/50 [00:00<?, ?it/s]"
      ]
     },
     "metadata": {},
     "output_type": "display_data"
    },
    {
     "data": {
      "application/vnd.jupyter.widget-view+json": {
       "model_id": "cf690dbc61b6404397c901932c643965",
       "version_major": 2,
       "version_minor": 0
      },
      "text/plain": [
       "  0%|          | 0/25 [00:00<?, ?it/s]"
      ]
     },
     "metadata": {},
     "output_type": "display_data"
    },
    {
     "data": {
      "application/vnd.jupyter.widget-view+json": {
       "model_id": "e31c0f86a3de4ca4acc05ddbc4c8b82c",
       "version_major": 2,
       "version_minor": 0
      },
      "text/plain": [
       "  0%|          | 0/25 [00:00<?, ?it/s]"
      ]
     },
     "metadata": {},
     "output_type": "display_data"
    },
    {
     "data": {
      "application/vnd.jupyter.widget-view+json": {
       "model_id": "49a50a9d700548be893306317f349eb8",
       "version_major": 2,
       "version_minor": 0
      },
      "text/plain": [
       "  0%|          | 0/250 [00:00<?, ?it/s]"
      ]
     },
     "metadata": {},
     "output_type": "display_data"
    },
    {
     "name": "stdout",
     "output_type": "stream",
     "text": [
      "36\n",
      "(704, 1280, 3)\n"
     ]
    },
    {
     "data": {
      "application/vnd.jupyter.widget-view+json": {
       "model_id": "8c89e159c1e0425ab63fad2731a3a3ae",
       "version_major": 2,
       "version_minor": 0
      },
      "text/plain": [
       "  0%|          | 0/50 [00:00<?, ?it/s]"
      ]
     },
     "metadata": {},
     "output_type": "display_data"
    },
    {
     "data": {
      "application/vnd.jupyter.widget-view+json": {
       "model_id": "e04802fca1484f13b5ce561694e0c7bb",
       "version_major": 2,
       "version_minor": 0
      },
      "text/plain": [
       "  0%|          | 0/25 [00:00<?, ?it/s]"
      ]
     },
     "metadata": {},
     "output_type": "display_data"
    },
    {
     "data": {
      "application/vnd.jupyter.widget-view+json": {
       "model_id": "20ab84ba52974d878e481d8ba9f78960",
       "version_major": 2,
       "version_minor": 0
      },
      "text/plain": [
       "  0%|          | 0/25 [00:00<?, ?it/s]"
      ]
     },
     "metadata": {},
     "output_type": "display_data"
    },
    {
     "data": {
      "application/vnd.jupyter.widget-view+json": {
       "model_id": "c72b7572f1d64395a37b63e7c1d0da6f",
       "version_major": 2,
       "version_minor": 0
      },
      "text/plain": [
       "  0%|          | 0/250 [00:00<?, ?it/s]"
      ]
     },
     "metadata": {},
     "output_type": "display_data"
    },
    {
     "name": "stdout",
     "output_type": "stream",
     "text": [
      "63\n",
      "(704, 1280, 3)\n"
     ]
    },
    {
     "data": {
      "application/vnd.jupyter.widget-view+json": {
       "model_id": "d4780a69b05d43a782352a1982511c77",
       "version_major": 2,
       "version_minor": 0
      },
      "text/plain": [
       "  0%|          | 0/50 [00:00<?, ?it/s]"
      ]
     },
     "metadata": {},
     "output_type": "display_data"
    },
    {
     "data": {
      "application/vnd.jupyter.widget-view+json": {
       "model_id": "06d25ed1d21d4d719f5730e1f9df645c",
       "version_major": 2,
       "version_minor": 0
      },
      "text/plain": [
       "  0%|          | 0/25 [00:00<?, ?it/s]"
      ]
     },
     "metadata": {},
     "output_type": "display_data"
    },
    {
     "data": {
      "application/vnd.jupyter.widget-view+json": {
       "model_id": "3af4e6e6e25e463a9a5d052e3afc7d4d",
       "version_major": 2,
       "version_minor": 0
      },
      "text/plain": [
       "  0%|          | 0/25 [00:00<?, ?it/s]"
      ]
     },
     "metadata": {},
     "output_type": "display_data"
    },
    {
     "data": {
      "application/vnd.jupyter.widget-view+json": {
       "model_id": "81b423ee9df54a9bb69516ef67265e5c",
       "version_major": 2,
       "version_minor": 0
      },
      "text/plain": [
       "  0%|          | 0/250 [00:00<?, ?it/s]"
      ]
     },
     "metadata": {},
     "output_type": "display_data"
    },
    {
     "name": "stdout",
     "output_type": "stream",
     "text": [
      "62\n",
      "(704, 1280, 3)\n"
     ]
    },
    {
     "data": {
      "application/vnd.jupyter.widget-view+json": {
       "model_id": "12ff350cacf64196af9a10a5491cfa1a",
       "version_major": 2,
       "version_minor": 0
      },
      "text/plain": [
       "  0%|          | 0/50 [00:00<?, ?it/s]"
      ]
     },
     "metadata": {},
     "output_type": "display_data"
    },
    {
     "data": {
      "application/vnd.jupyter.widget-view+json": {
       "model_id": "836f7e950ffc459a98fcbb458f237b49",
       "version_major": 2,
       "version_minor": 0
      },
      "text/plain": [
       "  0%|          | 0/25 [00:00<?, ?it/s]"
      ]
     },
     "metadata": {},
     "output_type": "display_data"
    },
    {
     "data": {
      "application/vnd.jupyter.widget-view+json": {
       "model_id": "04e7254563474ace8edbcaecf24fe0c3",
       "version_major": 2,
       "version_minor": 0
      },
      "text/plain": [
       "  0%|          | 0/25 [00:00<?, ?it/s]"
      ]
     },
     "metadata": {},
     "output_type": "display_data"
    },
    {
     "data": {
      "application/vnd.jupyter.widget-view+json": {
       "model_id": "4a117867972e481c869d0d8373326c60",
       "version_major": 2,
       "version_minor": 0
      },
      "text/plain": [
       "  0%|          | 0/250 [00:00<?, ?it/s]"
      ]
     },
     "metadata": {},
     "output_type": "display_data"
    },
    {
     "name": "stdout",
     "output_type": "stream",
     "text": [
      "61\n",
      "(704, 1280, 3)\n"
     ]
    }
   ],
   "source": [
    "import imageio.v3 as iio\n",
    "for i in range(93, len(df)):\n",
    "    frame = Image.fromarray(iio.imread(\n",
    "                'cene655/videos_c/rutube_hackathon_sochi/videos/' + df['video_name'].iloc[i],\n",
    "                index=1000,\n",
    "                plugin=\"pyav\",\n",
    "            ))\n",
    "    out_img = generate_preview(decoder, controlnet, prior, prepare_caption(df['description'].iloc[i]), text=df['title'].iloc[i].replace('I', '\\n').replace('|', '\\n'), style_image=frame, face_image=None, animation=None)\n",
    "    out_img.save(f'cene655/videos_c/previews1/{i}.jpg')\n"
   ]
  }
 ],
 "metadata": {
  "kernelspec": {
   "display_name": "Python 3 (ipykernel)",
   "language": "python",
   "name": "python3"
  },
  "language_info": {
   "codemirror_mode": {
    "name": "ipython",
    "version": 3
   },
   "file_extension": ".py",
   "mimetype": "text/x-python",
   "name": "python",
   "nbconvert_exporter": "python",
   "pygments_lexer": "ipython3",
   "version": "3.7.12"
  }
 },
 "nbformat": 4,
 "nbformat_minor": 5
}
